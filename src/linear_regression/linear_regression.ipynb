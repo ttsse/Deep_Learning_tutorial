{
 "cells": [
  {
   "cell_type": "code",
   "execution_count": 1,
   "metadata": {},
   "outputs": [],
   "source": [
    "!pip install -r requirements.txt"
   ]
  },
  {
   "cell_type": "code",
   "execution_count": 3,
   "metadata": {},
   "outputs": [],
   "source": [
    "import numpy as np\n",
    "import pandas as pd\n",
    "import matplotlib.pyplot as plt\n",
    "import os\n",
    "import shutil\n",
    "def load_data():\n",
    "\n",
    "\tif not os.path.exists(\"Auto.csv\"):\n",
    "\t\tshutil.copy('../../datasets/Auto.csv', '.')\n",
    "\n",
    "\t# import data\n",
    "\tAuto = pd.read_csv('Auto.csv', na_values='?', dtype={'ID': str}).dropna().reset_index()\n",
    "\tAuto.columns\n",
    "\t# Extract relevant input and output for traning\n",
    "\tX_train = Auto.drop(columns='mpg')\n",
    "\tY_train = Auto[['mpg']]\n",
    "\n",
    "\treturn X_train, Y_train"
   ]
  },
  {
   "cell_type": "code",
   "execution_count": null,
   "metadata": {},
   "outputs": [],
   "source": [
    "# apply normalization techniques on the samples\n",
    "def normalize(X):\n",
    "    for column in X.columns:\n",
    "        X[column] = (X[column] - X[column].mean()) / np.sqrt(np.mean((X[column] - X[column].mean())**2))\n",
    "            \n",
    "    return X"
   ]
  },
  {
   "cell_type": "code",
   "execution_count": null,
   "metadata": {},
   "outputs": [],
   "source": [
    "\n",
    "class LinearRegressionGD:\n",
    "    \"\"\"Linear Regression Using Gradient Descent.\n",
    "    Parameters\n",
    "    ----------\n",
    "    lr : float\n",
    "        Learning rate\n",
    "    n_step : int\n",
    "        No of passes over the training set\n",
    "    Attributes\n",
    "    ----------\n",
    "    w_ : array-like, shape = [n_features, 1]\n",
    "        weights\n",
    "    b_: array-like, shape = [1, ]\n",
    "        biases\n",
    "    cost_ : list\n",
    "        total error of the model after each iteration\n",
    "    \"\"\"\n",
    "\n",
    "    def __init__(self, lr=0.1, n_step=1000, n_feature=1):\n",
    "        \"\"\"Initialize the weights and biases\n",
    "        \"\"\"\n",
    "        self.lr = lr\n",
    "        self.n_step = n_step\n",
    "        self.w_ = np.zeros((n_feature, 1))\n",
    "        self.b_ = np.zeros(1,)\n",
    "        self.cost_ = []\n",
    "\n",
    "    def fit(self, x, y):\n",
    "        \"\"\"Fit the training data\n",
    "        Parameters\n",
    "        ----------\n",
    "        x : array-like, shape = [n_samples, n_features]\n",
    "            Training samples\n",
    "        y : array-like, shape = [n_samples, n_target_values]\n",
    "            Target values\n",
    "        Returns\n",
    "        -------\n",
    "        self : object\n",
    "        \"\"\"\n",
    "\n",
    "        n = x.shape[0]\n",
    "        for _ in range(self.n_step):\n",
    "            y_pred = np.dot(x, self.w_) + self.b_\n",
    "            residuals = y_pred - y\n",
    "            \n",
    "            # calculate the cost\n",
    "            cost = np.sum((residuals ** 2)) / n \n",
    "            self.cost_.append(cost)\n",
    "\n",
    "            # calculate the gradients for weights and biases\n",
    "            gradient_vector_w = np.dot(x.T, residuals)\n",
    "            gradient_vector_b = np.mean(residuals)\n",
    "\n",
    "            # update weights and biases with gradients\n",
    "            self.w_ -= (self.lr / n) * gradient_vector_w\n",
    "            self.b_ -= self.lr * gradient_vector_b\n",
    "\n",
    "        return self\n",
    "\n",
    "    def predict(self, x):\n",
    "        \"\"\" Predicts the value for sample x\n",
    "        Parameters\n",
    "        ----------\n",
    "        x : array-like, shape = [n_samples, n_features]\n",
    "            Test samples\n",
    "        Returns\n",
    "        -------\n",
    "        Predicted value\n",
    "        \"\"\"\n",
    "        return np.dot(x, self.w_) + self.b_"
   ]
  },
  {
   "cell_type": "code",
   "execution_count": null,
   "metadata": {},
   "outputs": [],
   "source": [
    "X_train, Y_train= load_data()\n"
   ]
  },
  {
   "cell_type": "code",
   "execution_count": null,
   "metadata": {},
   "outputs": [],
   "source": [
    "# LR model 1\n",
    "\n",
    "X = X_train[['horsepower']]\n",
    "Y = Y_train.values\n",
    "\n",
    "X = normalize(X)\n",
    "num_feture = X.shape[1]\n",
    "LR1 = LinearRegressionGD(n_feature=num_feture)\n",
    "LR1.fit(X, Y)\n",
    "y_pred = LR1.predict(X)\n",
    "\n",
    "plt.figure()\n",
    "plt.plot(X_train[['horsepower']], Y, 'r.', label=\"y_true\")\n",
    "plt.plot(X_train[['horsepower']], y_pred, 'g-', label=\"y_pred\")\n",
    "plt.legend()\n",
    "plt.xlabel('horsepower')\n",
    "plt.ylabel('mpg')\n",
    "plt.title('true mpg vs. predicted mpg')\n",
    "plt.show()\n",
    "\n",
    "print(f\"The final cost value is {LR1.cost_[-1]}\")\n",
    "plt.figure()\n",
    "plt.plot(LR1.cost_, 'r.')\n",
    "plt.xlabel('iteration')\n",
    "plt.ylabel('Cost(J)')\n",
    "plt.show()"
   ]
  },
  {
   "cell_type": "code",
   "execution_count": null,
   "metadata": {},
   "outputs": [],
   "source": [
    "# LR model 2\n",
    "\n",
    "X = X_train.drop(columns='name')\n",
    "Y = Y_train.values\n",
    "\n",
    "X = normalize(X)\n",
    "num_feture = X.shape[1]\n",
    "LR2 = LinearRegressionGD(n_feature=num_feture)\n",
    "LR2.fit(X, Y)\n",
    "\n",
    "print(f\"The final cost value is {LR2.cost_[-1]}\")\n",
    "plt.plot(LR2.cost_, 'b.')\n",
    "plt.xlabel('iteration')\n",
    "plt.ylabel('Cost(J)')\n",
    "plt.show()"
   ]
  }
 ],
 "metadata": {
  "kernelspec": {
   "display_name": "Python 3",
   "language": "python",
   "name": "python3"
  },
  "language_info": {
   "codemirror_mode": {
    "name": "ipython",
    "version": 3
   },
   "file_extension": ".py",
   "mimetype": "text/x-python",
   "name": "python",
   "nbconvert_exporter": "python",
   "pygments_lexer": "ipython3",
   "version": "3.8.10"
  },
  "orig_nbformat": 4,
  "vscode": {
   "interpreter": {
    "hash": "e7370f93d1d0cde622a1f8e1c04877d8463912d04d973331ad4851f04de6915a"
   }
  }
 },
 "nbformat": 4,
 "nbformat_minor": 2
}
